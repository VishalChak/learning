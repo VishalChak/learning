{
 "cells": [
  {
   "cell_type": "code",
   "execution_count": 1,
   "id": "a40bc7c8-ef93-4c08-b00b-d6d2cf94b01f",
   "metadata": {},
   "outputs": [
    {
     "ename": "FileNotFoundError",
     "evalue": "[Errno 2] No such file or directory: 'path-to-your-label.json'",
     "output_type": "error",
     "traceback": [
      "\u001b[0;31m---------------------------------------------------------------------------\u001b[0m",
      "\u001b[0;31mFileNotFoundError\u001b[0m                         Traceback (most recent call last)",
      "Cell \u001b[0;32mIn[1], line 14\u001b[0m\n\u001b[1;32m      9\u001b[0m headers \u001b[38;5;241m=\u001b[39m {\n\u001b[1;32m     10\u001b[0m     \u001b[38;5;124m'\u001b[39m\u001b[38;5;124mAuthorization\u001b[39m\u001b[38;5;124m'\u001b[39m: \u001b[38;5;124mf\u001b[39m\u001b[38;5;124m'\u001b[39m\u001b[38;5;124mToken \u001b[39m\u001b[38;5;132;01m{\u001b[39;00mapi_key\u001b[38;5;132;01m}\u001b[39;00m\u001b[38;5;124m'\u001b[39m,\n\u001b[1;32m     11\u001b[0m }\n\u001b[1;32m     13\u001b[0m \u001b[38;5;66;03m# Load your local annotation (label) data from a JSON file\u001b[39;00m\n\u001b[0;32m---> 14\u001b[0m \u001b[38;5;28;01mwith\u001b[39;00m \u001b[38;5;28;43mopen\u001b[39;49m\u001b[43m(\u001b[49m\u001b[38;5;124;43m'\u001b[39;49m\u001b[38;5;124;43mpath-to-your-label.json\u001b[39;49m\u001b[38;5;124;43m'\u001b[39;49m\u001b[43m,\u001b[49m\u001b[43m \u001b[49m\u001b[38;5;124;43m'\u001b[39;49m\u001b[38;5;124;43mr\u001b[39;49m\u001b[38;5;124;43m'\u001b[39;49m\u001b[43m)\u001b[49m \u001b[38;5;28;01mas\u001b[39;00m label_file:\n\u001b[1;32m     15\u001b[0m     annotations_data \u001b[38;5;241m=\u001b[39m json\u001b[38;5;241m.\u001b[39mload(label_file)\n\u001b[1;32m     17\u001b[0m \u001b[38;5;66;03m# Prepare the task data, including annotations and local image file\u001b[39;00m\n",
      "File \u001b[0;32m~/anaconda3/envs/ortho/lib/python3.10/site-packages/IPython/core/interactiveshell.py:324\u001b[0m, in \u001b[0;36m_modified_open\u001b[0;34m(file, *args, **kwargs)\u001b[0m\n\u001b[1;32m    317\u001b[0m \u001b[38;5;28;01mif\u001b[39;00m file \u001b[38;5;129;01min\u001b[39;00m {\u001b[38;5;241m0\u001b[39m, \u001b[38;5;241m1\u001b[39m, \u001b[38;5;241m2\u001b[39m}:\n\u001b[1;32m    318\u001b[0m     \u001b[38;5;28;01mraise\u001b[39;00m \u001b[38;5;167;01mValueError\u001b[39;00m(\n\u001b[1;32m    319\u001b[0m         \u001b[38;5;124mf\u001b[39m\u001b[38;5;124m\"\u001b[39m\u001b[38;5;124mIPython won\u001b[39m\u001b[38;5;124m'\u001b[39m\u001b[38;5;124mt let you open fd=\u001b[39m\u001b[38;5;132;01m{\u001b[39;00mfile\u001b[38;5;132;01m}\u001b[39;00m\u001b[38;5;124m by default \u001b[39m\u001b[38;5;124m\"\u001b[39m\n\u001b[1;32m    320\u001b[0m         \u001b[38;5;124m\"\u001b[39m\u001b[38;5;124mas it is likely to crash IPython. If you know what you are doing, \u001b[39m\u001b[38;5;124m\"\u001b[39m\n\u001b[1;32m    321\u001b[0m         \u001b[38;5;124m\"\u001b[39m\u001b[38;5;124myou can use builtins\u001b[39m\u001b[38;5;124m'\u001b[39m\u001b[38;5;124m open.\u001b[39m\u001b[38;5;124m\"\u001b[39m\n\u001b[1;32m    322\u001b[0m     )\n\u001b[0;32m--> 324\u001b[0m \u001b[38;5;28;01mreturn\u001b[39;00m \u001b[43mio_open\u001b[49m\u001b[43m(\u001b[49m\u001b[43mfile\u001b[49m\u001b[43m,\u001b[49m\u001b[43m \u001b[49m\u001b[38;5;241;43m*\u001b[39;49m\u001b[43margs\u001b[49m\u001b[43m,\u001b[49m\u001b[43m \u001b[49m\u001b[38;5;241;43m*\u001b[39;49m\u001b[38;5;241;43m*\u001b[39;49m\u001b[43mkwargs\u001b[49m\u001b[43m)\u001b[49m\n",
      "\u001b[0;31mFileNotFoundError\u001b[0m: [Errno 2] No such file or directory: 'path-to-your-label.json'"
     ]
    }
   ],
   "source": [
    "import requests\n",
    "import json\n",
    "\n",
    "# Set your Label Studio API key and server URL\n",
    "api_key = 'your-api-key-here'\n",
    "url = 'http://your-label-studio-server-url.com/api/tasks/'\n",
    "\n",
    "# Define headers for authentication\n",
    "headers = {\n",
    "    'Authorization': f'Token {api_key}',\n",
    "}\n",
    "\n",
    "# Load your local annotation (label) data from a JSON file\n",
    "with open('path-to-your-label.json', 'r') as label_file:\n",
    "    annotations_data = json.load(label_file)\n",
    "\n",
    "# Prepare the task data, including annotations and local image file\n",
    "task_data = {\n",
    "    \"data\": {},  # Empty data initially because the image will be uploaded as a file\n",
    "    \"annotations\": annotations_data  # This should be a valid annotation structure\n",
    "}\n",
    "\n",
    "# Open the local image file in binary mode\n",
    "with open('path-to-your-image.jpg', 'rb') as image_file:\n",
    "    files = {\n",
    "        'file': image_file  # This sends the local image file to the server\n",
    "    }\n",
    "\n",
    "    # Send the POST request to upload the image and annotation data\n",
    "    response = requests.post(url, headers=headers, files=files, data={'task': json.dumps(task_data)})\n",
    "\n",
    "    # Check the response\n",
    "    if response.status_code == 201:\n",
    "        print('Task created successfully!')\n",
    "    else:\n",
    "        print(f'Error: {response.status_code}, {response.text}')\n"
   ]
  },
  {
   "cell_type": "code",
   "execution_count": 7,
   "id": "935dfabf-7c58-4152-843e-607fb3bf0146",
   "metadata": {},
   "outputs": [
    {
     "name": "stdout",
     "output_type": "stream",
     "text": [
      "[{'from_name': 'label', 'to_name': 'image', 'type': 'rectanglelabels', 'value': {'x': 0.435661, 'y': 0.588316, 'width': 0.434656, 'height': 0.81684, 'rectanglelabels': ['3']}}, {'from_name': 'label', 'to_name': 'image', 'type': 'rectanglelabels', 'value': {'x': 0.6066058278083801, 'y': 0.23300743103027344, 'width': 0.048008859157562256, 'height': 0.09367164224386215, 'rectanglelabels': ['6']}}, {'from_name': 'label', 'to_name': 'image', 'type': 'rectanglelabels', 'value': {'x': 0.8268563747406006, 'y': 0.07653931528329849, 'width': 0.03624814376235008, 'height': 0.07233104854822159, 'rectanglelabels': ['6']}}, {'from_name': 'label', 'to_name': 'image', 'type': 'rectanglelabels', 'value': {'x': 0.49787637591362, 'y': 0.05333011597394943, 'width': 0.04564450681209564, 'height': 0.07122091203927994, 'rectanglelabels': ['6']}}]\n",
      "<_io.BufferedReader name='1_4.jpg'>\n",
      "Error: 400, {\"id\":\"50fbc120-c2f2-4056-bb1a-049b0958d420\",\"status_code\":400,\"version\":\"1.13.1\",\"detail\":\"Validation error\",\"exc_info\":null,\"validation_errors\":{\"data\":[\"This field is required.\"]}}\n"
     ]
    }
   ],
   "source": [
    "import requests\n",
    "import json\n",
    "\n",
    "# Set your Label Studio API key and server URL\n",
    "api_key = '3e1937059f40bea8bdaa16fd7cc2b4862d5ec240'\n",
    "url = 'http://localhost:8080//api/tasks/'\n",
    "\n",
    "# Define headers for authentication\n",
    "headers = {\n",
    "    'Authorization': f'Token {api_key}',\n",
    "}\n",
    "\n",
    "# Load the local label from the text file\n",
    "label_file_path = '1_4.txt'\n",
    "\n",
    "# Let's assume the label text file contains bounding box data in this format:\n",
    "# label_name, x, y, width, height\n",
    "# Example content in the file:\n",
    "# cat, 10.0, 20.0, 30.0, 40.0\n",
    "\n",
    "annotations_data = []\n",
    "with open(label_file_path, 'r') as label_file:\n",
    "    for line in label_file:\n",
    "        label_name, x, y, width, height = line.strip().split(' ')\n",
    "        annotations_data.append({\n",
    "            \"from_name\": \"label\",\n",
    "            \"to_name\": \"image\",\n",
    "            \"type\": \"rectanglelabels\",\n",
    "            \"value\": {\n",
    "                \"x\": float(x),\n",
    "                \"y\": float(y),\n",
    "                \"width\": float(width),\n",
    "                \"height\": float(height),\n",
    "                \"rectanglelabels\": [label_name]\n",
    "            }\n",
    "        })\n",
    "print(annotations_data)\n",
    "# Prepare the task data with annotations\n",
    "task_data = {\n",
    "    \"data\": {\n",
    "        \"image\": \"uploaded-image.jpg\"  # Reference the uploaded image by file name\n",
    "    },\n",
    "    \"annotations\": [\n",
    "        {\n",
    "            \"result\": annotations_data\n",
    "        }\n",
    "    ]\n",
    "}\n",
    "\n",
    "\n",
    "# Open the local image file in binary mode\n",
    "with open('1_4.jpg', 'rb') as image_file:\n",
    "    files = {\n",
    "        'file': image_file  # Local image file\n",
    "    }\n",
    "    print(image_file)\n",
    "    # Send the POST request to upload the image and annotation data\n",
    "    response = requests.post(url, headers=headers, files=files, data={'task': json.dumps(task_data)})\n",
    "\n",
    "    # Check the response\n",
    "    if response.status_code == 201:\n",
    "        print('Task created successfully!')\n",
    "    else:\n",
    "        print(f'Error: {response.status_code}, {response.text}')\n"
   ]
  },
  {
   "cell_type": "code",
   "execution_count": null,
   "id": "da8e7acd-f308-4f75-97ee-817c844cec10",
   "metadata": {},
   "outputs": [],
   "source": []
  }
 ],
 "metadata": {
  "kernelspec": {
   "display_name": "Python 3 (ipykernel)",
   "language": "python",
   "name": "python3"
  },
  "language_info": {
   "codemirror_mode": {
    "name": "ipython",
    "version": 3
   },
   "file_extension": ".py",
   "mimetype": "text/x-python",
   "name": "python",
   "nbconvert_exporter": "python",
   "pygments_lexer": "ipython3",
   "version": "3.10.14"
  }
 },
 "nbformat": 4,
 "nbformat_minor": 5
}
